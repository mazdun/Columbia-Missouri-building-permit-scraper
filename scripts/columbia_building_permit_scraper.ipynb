{
 "cells": [
  {
   "cell_type": "code",
   "execution_count": 1,
   "id": "4092fcef",
   "metadata": {},
   "outputs": [
    {
     "name": "stdout",
     "output_type": "stream",
     "text": [
      "Requirement already satisfied: PyPDF2 in /Users/MatthewZdun/opt/anaconda3/lib/python3.9/site-packages (2.11.1)\n",
      "Requirement already satisfied: typing-extensions>=3.10.0.0 in /Users/MatthewZdun/opt/anaconda3/lib/python3.9/site-packages (from PyPDF2) (3.10.0.2)\n",
      "Note: you may need to restart the kernel to use updated packages.\n"
     ]
    }
   ],
   "source": [
    "pip install PyPDF2"
   ]
  },
  {
   "cell_type": "code",
   "execution_count": 1,
   "id": "1cd83654",
   "metadata": {},
   "outputs": [],
   "source": [
    "import PyPDF2"
   ]
  },
  {
   "cell_type": "markdown",
   "id": "0d4e8a33",
   "metadata": {},
   "source": [
    "### Testing"
   ]
  },
  {
   "cell_type": "code",
   "execution_count": 2,
   "id": "7deed225",
   "metadata": {},
   "outputs": [],
   "source": [
    "#Reading the PDF\n",
    "\n",
    "f = open('data/october_permits.pdf','rb')"
   ]
  },
  {
   "cell_type": "code",
   "execution_count": 3,
   "id": "457479fa",
   "metadata": {},
   "outputs": [
    {
     "data": {
      "text/plain": [
       "12"
      ]
     },
     "execution_count": 3,
     "metadata": {},
     "output_type": "execute_result"
    }
   ],
   "source": [
    "#Extracting all of the text from the PDF\n",
    "pdf_reader = PyPDF2.PdfFileReader(f) \n",
    "\n",
    "#Outputting the number of pages\n",
    "pdf_reader.numPages"
   ]
  },
  {
   "cell_type": "code",
   "execution_count": 4,
   "id": "ea4fd52b",
   "metadata": {},
   "outputs": [
    {
     "data": {
      "text/plain": [
       "'PERMITS ISSUED BY WORK CLASS (10/01/2022 TO 10/31/2022)\\nPermit # Main Address Type Workclass District Status Parcel\\nApplication Date Issue Date Expiration Last Inspection Finaled DateGeneral Contractor\\nFee Total Valuation Sq Ft Zone Assigned To\\nPERMITS ISSUED FOR ADDITION (RESIDENTIAL):   6 $457,351.44 \\nALTERATION (COMMERCIAL)\\nBSD-Building \\n(Commercial)Alteration \\n(Commercial)5400 Paris Rd, Col, MO 65202 Third Issued 1250300100010001 BLDC-004637-2022\\n10/11/2022 04/03/2023 10/05/2022 09/08/2022\\nWes Davis $2,295.00 $680,000.00  8,700 A AgriculturalSeptagon Construction Company, Inc.-Columbia\\nPermits Septagon\\nDescription:   The 3M Columbia, MO plant is planning to remove the existing Washline 1 and install a new dynamic washline and glycerin dryer oven in the Kahuna process area. The \\nproject will plan space and utilities for up to four total dynamic washlines in the future. This project includes modifications to the existing mechanical HVAC and piping in the area, \\nmodifications to lighting and power distribution, and architectural and structural modifications.\\nBSD-Building \\n(Commercial)Alteration \\n(Commercial)2475 Broadway Bluffs Dr, STE 1, \\nColumbia, MO 65201Third Issued 1740200170010001 BLDC-004186-2022\\n10/17/2022 04/17/2023 10/06/2022 08/10/2022\\nNina Hennkens $2,700.00 $800,000.00  5,725 PD Planned DevelopmentNOVELTY CONSTRUCTION, INC\\nDescription:   Interior alteration for mental health counseling center for veterans. The scope of work is limited to the lower level of the existing building.\\nBSD-Building \\n(Commercial)Alteration \\n(Commercial)1912 W Worley St, Columbia, MO 65203 First Issued 1622000030010101 BLDC-000201-2023\\n04/10/2023 10/10/2022 10/10/2022\\nDaryl Brown $35.00 $0.00  0 M-N Mixed Use - NeighborhoodOWNER CONTRACTOR\\nDescription:   Non structural repairs to exterior wall from vehicle impact.\\nBSD-Building \\n(Commercial)Alteration \\n(Commercial)3400 Broadway Business Park Ct STE, \\n102, Col, MO 65203Fourth Issued 1650100020390901 BLDC-004572-2022\\n10/20/2022 04/18/2023 10/11/2022 09/01/2022\\nWes Davis $860.58 $254,989.10  2,391 M-N Mixed Use - NeighborhoodSTARR CONSTRUCTION MANAGEMENT, LLC\\nDescription:   Adding walls to make offices, ceilings and lights.   Has 2 existing HC baths - no work.   Has water & electric meters.  Non-sprinklered.   Minor demo of a few walls & \\nceilings. Type 2B const. Offices.\\nBSD-Building \\n(Commercial)Alteration \\n(Commercial)301 Campusview Dr, Col, MO 65201 Fourth Issued 1660400020060001 BLDC-004698-2022\\n11/04/2022 05/03/2023 10/12/2022 09/13/2022\\nWes Davis $13,284.00 $3,936,000.00  200,000 R-MF Multiple-family Dwelling Ronald Klingler\\nDescription:   Remodel and Related Improvements to \"The Wylder\" Apartment Complex.\\n10 apartment buildings.\\nLevel 2 Alteration of all 172 apartments.\\nRemodel of 328 bathrooms.\\nBSD-Building \\n(Commercial)Alteration \\n(Commercial)301 Campusview Dr, Col, MO 65201 Fourth Issued 1660400020060001 BLDC-004698-2022\\n11/04/2022 05/03/2023 10/12/2022 09/13/2022\\nWes Davis $13,284.00 $3,936,000.00  200,000 R-MF Multiple-family DwellingRC CONTRACTORS\\nPage 4 of 12 November 04, 2022 701 E. Broadway, Columbia, Mo  65205-6015 - PAY ONLINE at www.CoMo.gov/selfservice'"
      ]
     },
     "execution_count": 4,
     "metadata": {},
     "output_type": "execute_result"
    }
   ],
   "source": [
    "#Getting the text from a specific page\n",
    "#Page one would be getPage(0) and page 2 would be getPage(1) and so on\n",
    "\n",
    "#Here I will get all of the text from page 4\n",
    "\n",
    "page_four = pdf_reader.getPage(3)\n",
    "page_four_text = page_four.extractText()\n",
    "\n",
    "page_four_text"
   ]
  },
  {
   "cell_type": "code",
   "execution_count": 5,
   "id": "4090a41d",
   "metadata": {},
   "outputs": [],
   "source": [
    "#Now that we have all of this in text format, we can use regular expressions to get the info we need\n",
    "import re"
   ]
  },
  {
   "cell_type": "code",
   "execution_count": 90,
   "id": "2ccb3fbf",
   "metadata": {},
   "outputs": [
    {
     "data": {
      "text/plain": [
       "['BLDC-004637-2022',\n",
       " 'BLDC-004186-2022',\n",
       " 'BLDC-000201-2023',\n",
       " 'BLDC-004572-2022',\n",
       " 'BLDC-004698-2022',\n",
       " 'BLDC-004698-2022']"
      ]
     },
     "execution_count": 90,
     "metadata": {},
     "output_type": "execute_result"
    }
   ],
   "source": [
    "permits = re.findall(r'(BLDC-\\d{6}-\\d{4})',page_four_text)\n",
    "\n",
    "#We need to take into account the different prefixes that can be in these permit codes. \n",
    "#There is BLDC, BLDR, POOL, DECK, ROOF and DEMO\n",
    "\n",
    "permits = re.findall(r'((?:BLDC|BLDR|POOL|DECK|ROOF|DEMO)-\\d{6}-\\d{4})',page_four_text)\n",
    "permits\n"
   ]
  },
  {
   "cell_type": "code",
   "execution_count": 97,
   "id": "bc0e33a6",
   "metadata": {},
   "outputs": [
    {
     "data": {
      "text/plain": [
       "['(Commercial)Alteration',\n",
       " '(Commercial)Alteration',\n",
       " '(Commercial)Alteration',\n",
       " '(Commercial)Alteration',\n",
       " '(Commercial)Alteration',\n",
       " '(Commercial)Alteration']"
      ]
     },
     "execution_count": 97,
     "metadata": {},
     "output_type": "execute_result"
    }
   ],
   "source": [
    "#Now for the permit types\n",
    "\n",
    "types = re.findall(r'BSD-Building \\n([(]\\S*)',page_four_text)\n",
    "\n",
    "#We need to take into account the different prefixes that can be in these permit codes. \n",
    "#There is BSD-Building, BSD-Pool/Spa, BSD-Deck Only, BSD-Reroof, BSD-Demolition\n",
    "\n",
    "types = re.findall(r'(?:BSD-Building|BSD-Pool/Spa|BSD-Deck Only|BSD-Reroof|BSD-Demolition) \\n([(]\\S*)',page_four_text)\n",
    "types"
   ]
  },
  {
   "cell_type": "code",
   "execution_count": 9,
   "id": "88a487da",
   "metadata": {},
   "outputs": [
    {
     "data": {
      "text/plain": [
       "['09/08/2022',\n",
       " '08/10/2022',\n",
       " '10/10/2022',\n",
       " '09/01/2022',\n",
       " '09/13/2022',\n",
       " '09/13/2022']"
      ]
     },
     "execution_count": 9,
     "metadata": {},
     "output_type": "execute_result"
    }
   ],
   "source": [
    "#Application Date\n",
    "application_date = re.findall(r'(\\d{2}\\/\\d{2}\\/\\d{4})\\n\\D',page_four_text)\n",
    "application_date"
   ]
  },
  {
   "cell_type": "code",
   "execution_count": 79,
   "id": "c6f65e7a",
   "metadata": {},
   "outputs": [
    {
     "data": {
      "text/plain": [
       "['10/05/2022',\n",
       " '10/06/2022',\n",
       " '10/10/2022',\n",
       " '10/11/2022',\n",
       " '10/12/2022',\n",
       " '10/12/2022']"
      ]
     },
     "execution_count": 79,
     "metadata": {},
     "output_type": "execute_result"
    }
   ],
   "source": [
    "#Issued Date\n",
    "issued_date = re.findall(r'(\\d{2}\\/\\d{2}\\/\\d{4})\\s\\d{2}\\/\\d{2}\\/\\d{4}\\n\\D',page_four_text)\n",
    "issued_date"
   ]
  },
  {
   "cell_type": "code",
   "execution_count": null,
   "id": "d6f659c7",
   "metadata": {},
   "outputs": [],
   "source": [
    "#The expiration and last inspection dates are harder to get because sometimes dates are missing, and that makes it \n",
    "#more difficult to write a regular expression"
   ]
  },
  {
   "cell_type": "code",
   "execution_count": 71,
   "id": "fb443f70",
   "metadata": {},
   "outputs": [
    {
     "data": {
      "text/plain": [
       "['The 3M Columbia, MO plant is planning to remove the existing Washline 1 and install a new dynamic washline and glycerin dryer oven in the Kahuna process area. The ~ project will plan space and utilities for up to four total dynamic washlines in the future. This project includes modifications to the existing mechanical HVAC and piping in the area, ~ modifications to lighting and power distribution, and architectural and structural modifications.',\n",
       " 'Interior alteration for mental health counseling center for veterans. The scope of work is limited to the lower level of the existing building.',\n",
       " 'Non structural repairs to exterior wall from vehicle impact.',\n",
       " 'Adding walls to make offices, ceilings and lights.   Has 2 existing HC baths - no work.   Has water & electric meters.  Non-sprinklered.   Minor demo of a few walls & ~ ceilings. Type 2B const. Offices.',\n",
       " 'Remodel and Related Improvements to \"The Wylder\" Apartment Complex.~ 10 apartment buildings.~ Level 2 Alteration of all 172 apartments.~ Remodel of 328 bathrooms.']"
      ]
     },
     "execution_count": 71,
     "metadata": {},
     "output_type": "execute_result"
    }
   ],
   "source": [
    "#Description\n",
    "description = re.findall(r'Description:   (.*?)~ BSD-Building', page_four_text.replace('\\n','~ '))\n",
    "description"
   ]
  },
  {
   "cell_type": "code",
   "execution_count": 78,
   "id": "bd4c9b33",
   "metadata": {},
   "outputs": [
    {
     "data": {
      "text/plain": [
       "['5400 Paris Rd, Col, MO 65202',\n",
       " '2475 Broadway Bluffs Dr, STE 1, Columbia, MO 65201',\n",
       " '1912 W Worley St, Columbia, MO 65203',\n",
       " '3400 Broadway Business Park Ct STE, 102, Col, MO 65203',\n",
       " '301 Campusview Dr, Col, MO 65201',\n",
       " '301 Campusview Dr, Col, MO 65201']"
      ]
     },
     "execution_count": 78,
     "metadata": {},
     "output_type": "execute_result"
    }
   ],
   "source": [
    "#Address\n",
    "address = re.findall(r'[)](\\d.*?\\d{5})', page_four_text.replace('\\n',''))\n",
    "address\n"
   ]
  },
  {
   "cell_type": "code",
   "execution_count": null,
   "id": "90f2b134",
   "metadata": {},
   "outputs": [],
   "source": [
    "#Note they all have addresses -- just have to get the full text of all of the pages so that you have it in order"
   ]
  },
  {
   "cell_type": "code",
   "execution_count": 38,
   "id": "6fec58d1",
   "metadata": {},
   "outputs": [
    {
     "data": {
      "text/plain": [
       "['8700', '5725', '0', '2391', '200000', '200000']"
      ]
     },
     "execution_count": 38,
     "metadata": {},
     "output_type": "execute_result"
    }
   ],
   "source": [
    "#Square footage\n",
    "square_feet = re.findall(r'\\$\\d*\\s{2}(\\d*)\\s\\D', page_four_text.replace(',','').replace('.',''))\n",
    "square_feet\n"
   ]
  },
  {
   "cell_type": "code",
   "execution_count": 41,
   "id": "8da1e6aa",
   "metadata": {},
   "outputs": [
    {
     "data": {
      "text/plain": [
       "['Issued', 'Issued', 'Issued', 'Issued', 'Issued', 'Issued']"
      ]
     },
     "execution_count": 41,
     "metadata": {},
     "output_type": "execute_result"
    }
   ],
   "source": [
    "#Status of the permit\n",
    "status = re.findall(r'(?:First|Second|Third|Fourth|Fifth|Sixth|Boone)\\s(\\D*)\\s\\d', page_four_text)\n",
    "status"
   ]
  },
  {
   "cell_type": "code",
   "execution_count": 43,
   "id": "02540136",
   "metadata": {},
   "outputs": [
    {
     "data": {
      "text/plain": [
       "['1250300100010001',\n",
       " '1740200170010001',\n",
       " '1622000030010101',\n",
       " '1650100020390901',\n",
       " '1660400020060001',\n",
       " '1660400020060001']"
      ]
     },
     "execution_count": 43,
     "metadata": {},
     "output_type": "execute_result"
    }
   ],
   "source": [
    "#Parcel\n",
    "parcel = re.findall(r'(\\d{16})', page_four_text)\n",
    "parcel\n"
   ]
  },
  {
   "cell_type": "code",
   "execution_count": 56,
   "id": "fbd3e4c7",
   "metadata": {},
   "outputs": [
    {
     "data": {
      "text/plain": [
       "['680000.00', '800000.00', '0.00', '254989.10', '3936000.00', '3936000.00']"
      ]
     },
     "execution_count": 56,
     "metadata": {},
     "output_type": "execute_result"
    }
   ],
   "source": [
    "#Project cost\n",
    "\n",
    "cost = re.findall(r'\\$\\d*[.]\\d*\\s\\$(\\d*[.]\\d*)', page_four_text.replace(',',''))\n",
    "cost"
   ]
  },
  {
   "cell_type": "markdown",
   "id": "be7f142f",
   "metadata": {},
   "source": [
    "### Applying to the entire PDF"
   ]
  },
  {
   "cell_type": "code",
   "execution_count": 168,
   "id": "c1079020",
   "metadata": {},
   "outputs": [
    {
     "data": {
      "text/plain": [
       "'PERMITS ISSUED BY WORK CLASS (10/01/2022 TO 10/31/2022)\\nFOR CITY OF COLUMBIA, MISSOURI\\n0M 2M 4M 6M 8M 10MADDITION (RESIDENTIAL)\\nALTERATION (COMMERCIAL)\\nALTERATION (RESIDENTIAL)\\nBSD - POOL (1&2 FAMILY)\\nCOMMERCIAL MULTI-FAMILY\\nCOMMERCIAL NEW\\nDECK ONLY\\nDUPLEX\\nRE-ROOF\\nRESIDENTIAL DEMO\\nSINGLE FAMILY DETACHED457,351\\n9,621,989\\n298,567\\n28,000\\n7,805,310\\n311,917\\n81,355\\n1,264,313\\n1,924,112\\n0\\n5,802,472Valuation 0 2 4 6 8 10 12 14ADDITION (RESIDENTIAL)\\nALTERATION (COMMERCIAL)\\nALTERATION (RESIDENTIAL)\\nBSD - POOL (1&2 FAMILY)\\nCOMMERCIAL MULTI-FAMILY\\nCOMMERCIAL NEW\\nDECK ONLY\\nDUPLEX\\nRE-ROOF\\nRESIDENTIAL DEMO\\nSINGLE FAMILY DETACHED6\\n8\\n9\\n1\\n1\\n1\\n5\\n4\\n13\\n3\\n11 PERMITS ISSUED BY WORK CLASS (10/01/2022 TO 10/31/2022)\\nPermit # Main Address Type Workclass District Status Parcel\\nApplication Date Issue Date Expiration Last Inspection Finaled DateGeneral Contractor\\nFee Total Valuation Sq Ft Zone Assigned To\\nADDITION (RESIDENTIAL)\\nBSD-Building \\n(Residential \\nAlter/Add)Addition \\n(Residential)600 Rogers St, Columbia, MO 65201 First Issued 1632000090120001 BLDR-000083-2023\\n10/17/2022 04/17/2023 10/05/2022 10/05/2022\\nDouglas Kenney $355.00 $31,910.40  480 R-MF Multiple-family DwellingOWNER CONTRACTOR\\nDescription:   12\\' x 40\\' detached wood framed storage building on slab.\\nBSD-Building \\n(Residential \\nAlter/Add)Addition \\n(Residential)505 Pershing Rd, Col, MO 65203 First Issued 1631300030170001 BLDR-000390-2023\\n04/24/2023 10/26/2022 10/24/2022\\nDouglas Kenney $887.49 $79,776.00  1,200 R-1 One-family DwellingSPILLMAN CONTRACTING LLC\\nDescription:   garage and storage addition within existing setbacks.   Existing house is 4 feet from south property line but addition will require 6\\' setback. Electric to be added later, \\nno driveway to addition\\nBSD-Building \\n(Residential \\nAlter/Add)Addition \\n(Residential)1923 Devonshire Dr, Col, MO 65203 Fifth Issued 1680000060400001 BLDR-000399-2023\\n04/24/2023 10/26/2022 10/24/2022\\nDouglas Kenney $521.00 $77,725.44  468 R-1 One-family DwellingGIRARD CUSTOM HOMES\\nZack Girard\\nDescription:   4 season room at rear of home.\\nBSD-Building \\n(Residential \\nAlter/Add)Addition \\n(Residential)4810 St Charles Rd, Columbia, MO 65201 Third Issued 1720400000250001 BLDR-000309-2023\\n04/26/2023 10/28/2022 10/17/2022\\nDouglas Kenney $710.73 $63,887.28  961 R-1 One-family DwellingOWNER CONTRACTOR\\nDescription:   31\\' x 31\\' pole barn style addition to existing detached garage\\nBSD-Building \\n(Residential \\nAlter/Add)Addition \\n(Residential)904 Old Hawthorne Drive East, Columbia, \\nMO 65201Sixth Issued 1760000011790001 BLDR-000454-2023\\n04/26/2023 10/28/2022 10/27/2022\\nDouglas Kenney $818.28 $100,418.40  1,100 R-1 One-family DwellingFAIRWAY MEADOWS CORPORATION\\nDescription:   Add bonus room and additional garage\\nBSD-Building \\n(Residential \\nAlter/Add)Addition \\n(Residential)111 Maplewood Dr, Col, MO 65203 Fourth Issued 1660500050050001 BLDR-000434-2023\\n11/01/2022 05/01/2023 10/31/2022 10/26/2022\\nDouglas Kenney $738.37 $103,633.92  600 R-1 One-family DwellingOVATION HOMES, LLC\\nDescription:   Addition to rear or west side of residence to include living space and bathroom\\nPage 3 of 12 November 04, 2022 701 E. Broadway, Columbia, Mo  65205-6015 - PAY ONLINE at www.CoMo.gov/selfservice PERMITS ISSUED BY WORK CLASS (10/01/2022 TO 10/31/2022)\\nPermit # Main Address Type Workclass District Status Parcel\\nApplication Date Issue Date Expiration Last Inspection Finaled DateGeneral Contractor\\nFee Total Valuation Sq Ft Zone Assigned To\\nPERMITS ISSUED FOR ADDITION (RESIDENTIAL):   6 $457,351.44 \\nALTERATION (COMMERCIAL)\\nBSD-Building \\n(Commercial)Alteration \\n(Commercial)5400 Paris Rd, Col, MO 65202 Third Issued 1250300100010001 BLDC-004637-2022\\n10/11/2022 04/03/2023 10/05/2022 09/08/2022\\nWes Davis $2,295.00 $680,000.00  8,700 A AgriculturalSeptagon Construction Company, Inc.-Columbia\\nPermits Septagon\\nDescription:   The 3M Columbia, MO plant is planning to remove the existing Washline 1 and install a new dynamic washline and glycerin dryer oven in the Kahuna process area. The \\nproject will plan space and utilities for up to four total dynamic washlines in the future. This project includes modifications to the existing mechanical HVAC and piping in the area, \\nmodifications to lighting and power distribution, and architectural and structural modifications.\\nBSD-Building \\n(Commercial)Alteration \\n(Commercial)2475 Broadway Bluffs Dr, STE 1, \\nColumbia, MO 65201Third Issued 1740200170010001 BLDC-004186-2022\\n10/17/2022 04/17/2023 10/06/2022 08/10/2022\\nNina Hennkens $2,700.00 $800,000.00  5,725 PD Planned DevelopmentNOVELTY CONSTRUCTION, INC\\nDescription:   Interior alteration for mental health counseling center for veterans. The scope of work is limited to the lower level of the existing building.\\nBSD-Building \\n(Commercial)Alteration \\n(Commercial)1912 W Worley St, Columbia, MO 65203 First Issued 1622000030010101 BLDC-000201-2023\\n04/10/2023 10/10/2022 10/10/2022\\nDaryl Brown $35.00 $0.00  0 M-N Mixed Use - NeighborhoodOWNER CONTRACTOR\\nDescription:   Non structural repairs to exterior wall from vehicle impact.\\nBSD-Building \\n(Commercial)Alteration \\n(Commercial)3400 Broadway Business Park Ct STE, \\n102, Col, MO 65203Fourth Issued 1650100020390901 BLDC-004572-2022\\n10/20/2022 04/18/2023 10/11/2022 09/01/2022\\nWes Davis $860.58 $254,989.10  2,391 M-N Mixed Use - NeighborhoodSTARR CONSTRUCTION MANAGEMENT, LLC\\nDescription:   Adding walls to make offices, ceilings and lights.   Has 2 existing HC baths - no work.   Has water & electric meters.  Non-sprinklered.   Minor demo of a few walls & \\nceilings. Type 2B const. Offices.\\nBSD-Building \\n(Commercial)Alteration \\n(Commercial)301 Campusview Dr, Col, MO 65201 Fourth Issued 1660400020060001 BLDC-004698-2022\\n11/04/2022 05/03/2023 10/12/2022 09/13/2022\\nWes Davis $13,284.00 $3,936,000.00  200,000 R-MF Multiple-family Dwelling Ronald Klingler\\nDescription:   Remodel and Related Improvements to \"The Wylder\" Apartment Complex.\\n10 apartment buildings.\\nLevel 2 Alteration of all 172 apartments.\\nRemodel of 328 bathrooms.\\nBSD-Building \\n(Commercial)Alteration \\n(Commercial)301 Campusview Dr, Col, MO 65201 Fourth Issued 1660400020060001 BLDC-004698-2022\\n11/04/2022 05/03/2023 10/12/2022 09/13/2022\\nWes Davis $13,284.00 $3,936,000.00  200,000 R-MF Multiple-family DwellingRC CONTRACTORS\\nPage 4 of 12 November 04, 2022 701 E. Broadway, Columbia, Mo  65205-6015 - PAY ONLINE at www.CoMo.gov/selfservice PERMITS ISSUED BY WORK CLASS (10/01/2022 TO 10/31/2022)\\nPermit # Main Address Type Workclass District Status Parcel\\nApplication Date Issue Date Expiration Last Inspection Finaled DateGeneral Contractor\\nFee Total Valuation Sq Ft Zone Assigned To\\nDescription:   Remodel and Related Improvements to \"The Wylder\" Apartment Complex.\\n10 apartment buildings.\\nLevel 2 Alteration of all 172 apartments.\\nRemodel of 328 bathrooms.\\nBSD-Building \\n(Commercial)Alteration \\n(Commercial)3601 Buttonwood Dr, STE A, Columbia, \\nMO 65201Sixth Issued 1691200010210001 BLDC-000333-2023\\n11/04/2022 05/03/2023 10/20/2022 10/19/2022\\nDaryl Brown $52.50 $0.00  0 M-C Mixed Use - CorridorChores and More LLC\\nSuni Walbrecht\\nDescription:   Cross Fit\\nBSD-Building \\n(Commercial)Alteration \\n(Commercial)1800 Commerce Ct, Col, MO 65202 Second Issued 1631200010030001 BLDC-004965-2022\\n10/26/2022 04/24/2023 10/25/2022 09/29/2022\\nNina Hennkens $52.50 $15,000.00  465 M-C Mixed Use - CorridorOWNER CONTRACTOR\\nDescription:   installation of paint booth\\nPERMITS ISSUED FOR ALTERATION (COMMERCIAL):   8 $9,621,989.10 \\nALTERATION (RESIDENTIAL)\\nBSD-Building \\n(Residential \\nAlter/Add)Alteration \\n(Residential)4102 Fritz Ct, Columbia, MO 65203 Second Issued 1620300091600001 BLDR-004966-2022\\n04/03/2023 10/04/2022 09/29/2022\\nDouglas Kenney $70.00 $0.00  0 PD Planned DevelopmentOWNER CONTRACTOR\\nDescription:   Install Home Standby Generator\\nBSD-Building \\n(Residential \\nAlter/Add)Alteration \\n(Residential)2501 Lenox Pl, Columbia, MO 65203 Fourth Issued 1650300080260001 BLDR-004969-2022\\n04/03/2023 10/05/2022 09/29/2022\\nDouglas Kenney $130.07 $26,699.40  180 R-1 One-family DwellingOWNER CONTRACTOR\\nDescription:   Convert 180sf of attic to living space\\nBSD-Building \\n(Residential \\nAlter/Add)Alteration \\n(Residential)5105 Cedar Ridge Dr, Columbia, MO 65203 Fifth Issued 1691800020610001 BLDR-000379-2023\\n04/19/2023 10/21/2022 10/21/2022\\nDouglas Kenney $154.08 $37,368.00  225 R-1 One-family DwellingOWNER CONTRACTOR\\nDescription:   Finish kitchen area in basement for daycare use\\nBSD-Building \\n(Residential \\nAlter/Add)Alteration \\n(Residential)609 Westridge Dr, Col, MO 65203 Fourth Issued 1660500040560001 BLDR-000216-2023\\nPage 5 of 12 November 04, 2022 701 E. Broadway, Columbia, Mo  65205-6015 - PAY ONLINE at www.CoMo.gov/selfservice PERMITS ISSUED BY WORK CLASS (10/01/2022 TO 10/31/2022)\\nPermit # Main Address Type Workclass District Status Parcel\\nApplication Date Issue Date Expiration Last Inspection Finaled DateGeneral Contractor\\nFee Total Valuation Sq Ft Zone Assigned To\\n10/25/2022 04/24/2023 10/25/2022 10/11/2022\\nDouglas Kenney $80.00 $20,000.00  100 R-1 One-family DwellingHEARTLAND PREMIER HOMES LLC\\nDescription:   Bathroom Remodel\\'s master and hall baths\\nBSD-Building \\n(Residential \\nAlter/Add)Alteration \\n(Residential)2806 Melody Ln, Columbia, MO 65203 Fifth Issued 1690700030020201 BLDR-004818-2022\\n10/27/2022 04/25/2023 10/27/2022 09/20/2022\\nDouglas Kenney $345.00 $100,000.00  0 PD Planned DevelopmentBETHANY STRODTMAN INTERIOR DESIGN, LLC\\nDescription:   Remodel replace windows, expanding kitchen, 2 baths\\nBSD-Building \\n(Residential \\nAlter/Add)Alteration \\n(Residential)1409 Pratt St, Columbia, MO 65201 Third Issued 1711700010730001 BLDR-000319-2023\\n04/26/2023 10/28/2022 10/18/2022\\nDouglas Kenney $217.50 $50,000.00  0 R-MF Multiple-family DwellingWELEK CONSTRUCTION CO, INC\\nDescription:   Remodel inside of existing accessory structure. This not to be used as a dwelling\\nBSD-Building \\n(Residential \\nAlter/Add)Alteration \\n(Residential)2 Fyfer Pl, Col, MO 65201 Sixth Issued 1711700240070001 BLDR-000522-2023\\n05/01/2023 10/31/2022 10/31/2022\\nDouglas Kenney $70.00 $25,000.00  800 R-MF Multiple-family DwellingREAL PROPERTY GROUP LLC\\nDescription:   Rehabilitate remodel after fire damage.\\nBSD-Building \\n(Residential \\nAlter/Add)Alteration \\n(Residential)1714 E Broadway APT, A, Col, MO 65201 Sixth Issued 1711700240070001 BLDR-000523-2023\\n05/01/2023 10/31/2022 10/31/2022\\nDouglas Kenney $161.25 $25,000.00  800 R-MF Multiple-family DwellingREAL PROPERTY GROUP LLC\\nDescription:   Remodel rehab fire damaged unit\\nBSD-Building \\n(Residential \\nAlter/Add)Alteration \\n(Residential)1520 Affirmed Dr, Col, MO 65202 Second Issued 1270300031670001 BLDR-000466-2023\\n05/01/2023 10/31/2022 10/27/2022\\nDouglas Kenney $70.00 $14,500.00  0 R-1 One-family DwellingSA&H WESTERN HOLDINGS, LLC\\nSUNNY DAY cm mose\\nDescription:   Install a 24KW generator with a 200amp automatic transfer switch and run gas line\\nPERMITS ISSUED FOR ALTERATION (RESIDENTIAL):   9 $298,567.40 \\nBSD - POOL (1&2 FAMILY)\\nBSD-Pool/Spa BSD - Pool (1&2 \\nFamily)3308 Wentworth Dr, Col, MO 65203 ...Pending..\\n.Issued POOL-004695-2022\\nPage 6 of 12 November 04, 2022 701 E. Broadway, Columbia, Mo  65205-6015 - PAY ONLINE at www.CoMo.gov/selfservice PERMITS ISSUED BY WORK CLASS (10/01/2022 TO 10/31/2022)\\nPermit # Main Address Type Workclass District Status Parcel\\nApplication Date Issue Date Expiration Last Inspection Finaled DateGeneral Contractor\\nFee Total Valuation Sq Ft Zone Assigned To\\n04/12/2023 10/14/2022 09/12/2022\\nDouglas Kenney $233.28 $28,000.00  392Metro Services Groups\\nRyan Stevens\\nPERMITS ISSUED FOR BSD - POOL (1&2 FAMILY):   1 $28,000.00 \\nCOMMERCIAL MULTI-FAMILY\\nBSD-Building \\n(Commercial)Commercial \\nMulti-Family1000 E Broadway, Col, MO 65201 First Issued 1632000172340001 BLDC-003277-2022*\\n10/26/2022 04/24/2023 10/11/2022 06/14/2022\\nNina Hennkens $222,972.23 $7,805,309.95  53,118 M-DT Mixed Use - DowntownDISCOVERY DEVELOPMENT, LLC\\nDescription:   6 Story Building of Pedestal Construction with Commercial Use on the first floor and 5 floors above the rated pedestal of non-combustible wood construction. Covered \\nParking with 65 one bedroom apartment units.\\nPERMITS ISSUED FOR COMMERCIAL MULTI-FAMILY:   1 $7,805,309.95 \\nCOMMERCIAL NEW\\nBSD-Building \\n(Commercial)Commercial New 3700 Buttonwood Dr, Columbia, MO 65201 Sixth Issued 1691200080010001 BLDC-001422-2022\\n04/03/2023 10/03/2022 01/27/2022\\nNina Hennkens $2,220.71 $311,916.90  1,906 PD Planned DevelopmentDON ERBERT LLC\\nDescription:   Sonic #1858\\nPERMITS ISSUED FOR COMMERCIAL NEW:   1 $311,916.90 \\nDECK ONLY\\nBSD-Deck Only Deck Only 1606 Apple Valley Ct, Col, MO 65202 Second Complete 1620100050070001 DECK-000092-2023\\n11/04/2022 11/04/2022 04/05/2023 10/07/2022 10/05/2022\\nDouglas Kenney $35.00 $15,000.00  0 R-1 One-family DwellingLIMITLESS DECK REPAIR LLC\\nDescription:   Replace Existing Deck\\nBSD-Deck Only Deck Only 3501 Venice Dr, Columbia, MO 65202 Third Issued 1270800040350001 DECK-000085-2023\\n10/14/2022 04/11/2023 10/13/2022 10/05/2022\\nDouglas Kenney $35.00 $15,955.20  0 R-1 One-family DwellingOWNER CONTRACTOR\\nDescription:   construct 240sf deck\\nBSD-Deck Only Deck Only 455 Foxfire Dr, Col, MO 65201 Sixth Issued 1690800010340001 DECK-000314-2023\\n04/17/2023 10/19/2022 10/18/2022\\nDouglas Kenney $35.00 $5,200.00  0MOENTMANN CONSTRUCTION\\nDavid Moentmann\\nDescription:   DECK REPACEMENT\\nBSD-Deck Only Deck Only 457 Foxfire Dr, Col, MO 65201 Sixth Complete 1690800010330001 DECK-000313-2023\\n10/28/2022 10/28/2022 04/17/2023 10/19/2022 10/18/2022\\nDouglas Kenney $35.00 $5,200.00  0 PD Planned DevelopmentMOENTMANN CONSTRUCTION\\nDavid Moentmann\\nPage 7 of 12 November 04, 2022 701 E. Broadway, Columbia, Mo  65205-6015 - PAY ONLINE at www.CoMo.gov/selfservice PERMITS ISSUED BY WORK CLASS (10/01/2022 TO 10/31/2022)\\nPermit # Main Address Type Workclass District Status Parcel\\nApplication Date Issue Date Expiration Last Inspection Finaled DateGeneral Contractor\\nFee Total Valuation Sq Ft Zone Assigned To\\nDescription:   DECK REPLACEMENT\\nBSD-Deck Only Deck Only 3109 Meghann Dr, Columbia, MO 65203 Fourth Issued 1650100020180001 DECK-000337-2023\\n04/18/2023 10/20/2022 10/19/2022\\nDouglas Kenney $90.00 $40,000.00  0 R-1 One-family DwellingJPPCS, INC\\nDescription:   Replace existing deck\\nPERMITS ISSUED FOR DECK ONLY:   5 $81,355.20 \\nDUPLEX\\nBSD-Building \\n(Residential New)Duplex 1813 Sundeck Dr, Columbia, MO 65202 Second Issued 1271800020060001 BLDR-004935-2022\\n04/03/2023 10/03/2022 09/27/2022\\nDouglas Kenney $7,312.20 $316,078.36  2,472 R-2 Two-family DwellingJMC CONSTRUCTION LLC\\nDescription:   Lot 20 Oakland Hills \\nNew Residential Duplex\\nBSD-Building \\n(Residential New)Duplex 1815 Sundeck Dr, Columbia, MO 65202 Second Issued 1271800020060001 BLDR-004948-2022\\n04/03/2023 10/03/2022 09/27/2022\\nDouglas Kenney $7,237.20 $316,078.36  2,472 R-2 Two-family DwellingJMC CONSTRUCTION LLC\\nDescription:   Lot 20 Oakland Hills \\nNew Residential Duplex\\nBSD-Building \\n(Residential New)Duplex 1901 Sundeck Dr, Columbia, MO 65202 Second Issued 1271800020050001 BLDR-004934-2022\\n11/02/2022 05/01/2023 10/03/2022 09/27/2022\\nDouglas Kenney $7,312.20 $316,078.36  2,472 R-2 Two-family DwellingJMC CONSTRUCTION LLC\\nDescription:   Lot 19 Oakland Hills \\nNew Residential duplex\\nBSD-Building \\n(Residential New)Duplex 1903 Sundeck Dr, Columbia, MO 65202 Second Issued 1271800020050001 BLDR-004952-2022\\n11/02/2022 05/01/2023 10/03/2022 09/27/2022\\nDouglas Kenney $7,237.20 $316,078.36  2,472 R-2 Two-family DwellingJMC CONSTRUCTION LLC\\nDescription:   Lot 19, Oakland Hills \\nNew Residential duplex\\nPERMITS ISSUED FOR DUPLEX:   4 $1,264,313.44 \\nRE-ROOF\\nBSD-Reroof Re-Roof 1100 Steelhead Ct, Col, MO 65203 Fourth Issued 1641200030680001 ROOF-000037-2023\\n04/03/2023 10/04/2022 10/04/2022\\nDouglas Kenney $35.00 $12,200.00  0 R-1 One-family DwellingVERITAS CONSULTING & CONSTRUCTION GROUP, LLC\\nPage 8 of 12 November 04, 2022 701 E. Broadway, Columbia, Mo  65205-6015 - PAY ONLINE at www.CoMo.gov/selfservice PERMITS ISSUED BY WORK CLASS (10/01/2022 TO 10/31/2022)\\nPermit # Main Address Type Workclass District Status Parcel\\nApplication Date Issue Date Expiration Last Inspection Finaled DateGeneral Contractor\\nFee Total Valuation Sq Ft Zone Assigned To\\nDescription:   Complete tear off and replacement of roof and accessories. No other services will be provided\\nBSD-Reroof Re-Roof 3312 Lemone Industrial Blvd, Col, MO \\n65201Boone \\nCountyIssued 1770200010070001 ROOF-003567-2022\\n04/03/2023 10/04/2022 06/30/2022\\nDouglas Kenney $407.30 $181,024.00  0 M-C Mixed Use - CorridorALL SEASONS ROOFING, LLC\\nDescription:   Re-roof roof with 60 mil TPO\\nBSD-Reroof Re-Roof 805 Sycamore Ln, Col, MO 65203 Fifth Issued 1690600041500001 ROOF-000038-2023\\n04/03/2023 10/05/2022 10/04/2022\\nDouglas Kenney $35.00 $7,720.00  0 R-1 One-family DwellingVERITAS CONSULTING & CONSTRUCTION GROUP, LLC\\nDescription:   Complete tear off and replacement of roof and accessories. No other services will be provided.\\nBSD-Reroof Re-Roof 3704 Addison Dr, Col, MO 65203 Fourth Issued 1650300090630001 ROOF-000041-2023\\n04/03/2023 10/05/2022 10/04/2022\\nDouglas Kenney $45.22 $20,100.00  0 R-1 One-family DwellingVERITAS CONSULTING & CONSTRUCTION GROUP, LLC\\nDescription:   Complete tear off and replacement of roof and accessories. No other services will be provided.\\nBSD-Reroof Re-Roof 1804 Mckee St, Col, MO 65202 Third Issued 1721000000040001 ROOF-000219-2023\\n04/10/2023 10/11/2022 10/11/2022\\nDouglas Kenney $35.00 $5,620.90  0 R-2 Two-family DwellingVERITAS CONSULTING & CONSTRUCTION GROUP, LLC\\nDescription:   Complete tear off and replacement of roof and accessories. No other services will be provided.\\nBSD-Reroof Re-Roof 625 S Fourth St, Col, MO 65201 First Issued 1660800060090001 ROOF-004858-2022\\n04/11/2023 10/13/2022 09/22/2022\\nDouglas Kenney $3,545.40 $1,575,734.00  0 PD Planned DevelopmentWATKINS ROOFING, INC\\nDescription:   Full roof tear off and replacement\\nBSD-Reroof Re-Roof 1006 Golden Trout Ct, Columbia, MO \\n65203Fourth Issued 1641200030190001 ROOF-000134-2023\\n04/12/2023 10/14/2022 10/06/2022\\nDouglas Kenney $35.00 $14,695.00  0 R-1 One-family DwellingOWNER CONTRACTOR\\nDescription:   Reroof\\nBSD-Reroof Re-Roof 1006 Golden Trout Ct, Columbia, MO \\n65203Fourth Issued 1641200030190001 ROOF-000134-2023\\n04/12/2023 10/14/2022 10/06/2022\\nDouglas Kenney $35.00 $14,695.00  0 R-1 One-family DwellingHODGES ROOFING & SIDING\\nDescription:   Reroof\\nBSD-Reroof Re-Roof 1805 Limestone Ave, Col, MO 65203 Fourth Issued 1641600030400001 ROOF-000320-2023\\n04/17/2023 10/18/2022 10/18/2022\\nDouglas Kenney $42.07 $18,700.00  0 R-1 One-family DwellingVERITAS CONSULTING & CONSTRUCTION GROUP, LLC\\nDescription:   Complete tear off and replacement of roof and accessories. No other services will be provided.\\nPage 9 of 12 November 04, 2022 701 E. Broadway, Columbia, Mo  65205-6015 - PAY ONLINE at www.CoMo.gov/selfservice PERMITS ISSUED BY WORK CLASS (10/01/2022 TO 10/31/2022)\\nPermit # Main Address Type Workclass District Status Parcel\\nApplication Date Issue Date Expiration Last Inspection Finaled DateGeneral Contractor\\nFee Total Valuation Sq Ft Zone Assigned To\\nBSD-Reroof Re-Roof 1406 W Business Loop 70, Columbia, MO \\n65202Second Issued 1631300010010001 ROOF-000335-2023\\n04/18/2023 10/20/2022 10/19/2022\\nDouglas Kenney $94.27 $41,900.00  0 M-C Mixed Use - CorridorJPPCS, INC\\nDescription:   Reroof\\nBSD-Reroof Re-Roof 1206 Sunset Dr, Col, MO 65203 Fourth Issued 1660900010510001 ROOF-004964-2022\\n04/24/2023 10/26/2022 09/29/2022\\nDouglas Kenney $35.00 $11,722.79  0 R-1 One-family DwellingEnterprise Contracting Inc\\nConnor Lee\\nDescription:   Replace roof\\nBSD-Reroof Re-Roof 4105 Town Square Dr, Columbia, MO \\n65203Fourth Issued 1650300140010001 ROOF-004708-2022\\n04/26/2023 10/28/2022 09/13/2022\\nDouglas Kenney $35.00 $8,000.00  0 PD Planned DevelopmentMidwest Storm Restoration\\nThomas Stratton\\nDescription:   Reroof\\nBSD-Reroof Re-Roof 4105 Town Square Dr, Columbia, MO \\n65203Fourth Issued 1650300140060001 ROOF-004706-2022\\n04/26/2023 10/28/2022 09/13/2022\\nDouglas Kenney $35.00 $12,000.00  0 PD Planned DevelopmentMidwest Storm Restoration\\nThomas Stratton\\nDescription:   Reroof\\nPERMITS ISSUED FOR RE-ROOF:   13 $1,924,111.69 \\nRESIDENTIAL DEMO\\nBSD-Demolition \\nStructure(s)Residential Demo 918 N Eighth St, Columbia, MO 65201 First Issued 1631600020070001 DEMO-004448-2022\\n10/21/2022 04/12/2023 10/14/2022 08/24/2022\\nDouglas Kenney $50.00 $0.00  0 R-MF Multiple-family DwellingJ D KELLY EXCAVATING\\nDescription:   Demo res. structure\\nBSD-Demolition \\nStructure(s)Residential Demo 1000 N Eighth St, Columbia, MO 65201 First Issued 1631600020060001 DEMO-004447-2022\\n10/21/2022 04/12/2023 10/14/2022 08/24/2022\\nDouglas Kenney $50.00 $0.00  0 R-MF Multiple-family DwellingJ D KELLY EXCAVATING\\nDescription:   Demo res. structure\\nBSD-Demolition \\nStructure(s)Residential Demo 609 Westmount Ave, Columbia, MO 65203 Fourth Issued 1660700010630001 DEMO-002489-2022\\n05/13/2022 04/19/2023 10/21/2022 04/27/2022\\nDouglas Kenney $50.00 $0.00  0 R-1 One-family DwellingMUZZY BUILDERS, INC\\nDoug Muzzy\\nDescription:   Demo res. structure\\nPage 10 of 12 November 04, 2022 701 E. Broadway, Columbia, Mo  65205-6015 - PAY ONLINE at www.CoMo.gov/selfservice PERMITS ISSUED BY WORK CLASS (10/01/2022 TO 10/31/2022)\\nPermit # Main Address Type Workclass District Status Parcel\\nApplication Date Issue Date Expiration Last Inspection Finaled DateGeneral Contractor\\nFee Total Valuation Sq Ft Zone Assigned To\\nPERMITS ISSUED FOR RESIDENTIAL DEMO:   3 $0.00 \\nSINGLE FAMILY DETACHED\\nBSD-Building \\n(Residential New)Single Family \\nDetached119 Lindell Dr, Col, MO 65203 Fourth Issued 1660600030080001 BLDR-004922-2022\\n10/28/2022 04/26/2023 10/03/2022 09/27/2022\\nDouglas Kenney $1,643.04 $452,110.88  4,046 R-1 One-family DwellingTOMPKINS CONSTRUCTION\\nFELICIA TOMPKINS\\nDescription:   119 Lindell Drive; Lot 11 Taylor Subdivision\\nhome is being rebuilt in same location as home that burned down.\\nBSD-Building \\n(Residential New)Single Family \\nDetached2401 Catalpa Ct, Columbia, MO 65201 Sixth Issued 1740400030060001 BLDR-004953-2022\\n10/28/2022 04/26/2023 10/04/2022 09/28/2022\\nPaula Edwards $14,009.52 $1,194,440.31  10,052 R-1 One-family Dwelling DARRIN  WILCOXSON\\nDescription:   Lot 231 Bluff Creek Estates, P2-B\\nBSD-Building \\n(Residential New)Single Family \\nDetached3316 Yellowwood Dr, Columbia, MO \\n65202Third Issued 1240400020760001 BLDR-004978-2022\\n10/17/2022 04/17/2023 10/04/2022 09/30/2022\\nPaula Edwards $6,893.34 $260,021.75  2,075 R-1 One-family DwellingSEJ CONSTRUCTION LLC\\nDescription:   Lot 406, The villages at Arbor Pointe, P4\\nBSD-Building \\n(Residential New)Single Family \\nDetached6177 Partridge Ct, Columbia, MO 65202 Third Issued 1290300010210001 BLDR-000029-2023\\n11/04/2022 05/03/2023 10/06/2022 10/04/2022\\nPaula Edwards $8,527.11 $529,556.04  3,838 R-1 One-family DwellingEIGHT STAVES\\nDescription:   Lot 21 Fox Creek\\nBSD-Building \\n(Residential New)Single Family \\nDetached6185 Partridge Ct, Columbia, MO 65202 Third Issued 1290300010190001 BLDR-000028-2023\\n11/04/2022 05/03/2023 10/06/2022 10/04/2022\\nPaula Edwards $8,189.48 $485,469.84  3,448 R-1 One-family DwellingEIGHT STAVES\\nDescription:   Lot 19 Fox Creek\\nBSD-Building \\n(Residential New)Single Family \\nDetached3805 Ramble Dr, Col, MO 65202 Third Issued 1270400050100001 BLDR-000215-2023\\n04/10/2023 10/12/2022 10/11/2022\\nPaula Edwards $6,579.75 $237,181.20  1,665 R-1 One-family DwellingOWNER CONTRACTOR\\nDescription:   Lot 110 of Boone Prairie Village, Plat No. 1, Recorded in Plat Book 54, Page 48, Located in Columbia, Boone County, Missouri.\\nBSD-Building \\n(Residential New)Single Family \\nDetached1050 Shore Acres Loop, Columbia, MO \\n65201Sixth Issued 1750200061720001 BLDR-000279-2023\\n11/03/2022 05/02/2023 10/19/2022 10/14/2022\\nPaula Edwards $5,037.50 $381,621.12  2,744 R-1 One-family DwellingJOHN HANSMAN CONSTRUCTION\\nJOHN HANSMAN\\nPage 11 of 12 November 04, 2022 701 E. Broadway, Columbia, Mo  65205-6015 - PAY ONLINE at www.CoMo.gov/selfservice PERMITS ISSUED BY WORK CLASS (10/01/2022 TO 10/31/2022)\\nPermit # Main Address Type Workclass District Status Parcel\\nApplication Date Issue Date Expiration Last Inspection Finaled DateGeneral Contractor\\nFee Total Valuation Sq Ft Zone Assigned To\\nDescription:   Lot 297, The Brooks, P2\\nBSD-Building \\n(Residential New)Single Family \\nDetached609 Westmount Ave, Columbia, MO 65203 Fourth Issued 1660700010630001 BLDR-000245-2023\\n04/19/2023 10/21/2022 10/12/2022\\nPaula Edwards $6,045.67 $640,452.36  5,798 R-1 One-family DwellingMUZZY BUILDERS, INC\\nDoug Muzzy\\nDescription:   Lot 56, Westmount Addition / Includes detached garage\\nBSD-Building \\n(Residential New)Single Family \\nDetached5416 Briar Rose Ct, Columbia, MO 65203 Fourth Issued 1640200080920001 BLDR-000222-2023\\n04/24/2023 10/24/2022 10/11/2022\\nPaula Edwards $8,058.89 $528,957.12  3,919 R-1 One-family DwellingANDERSON HOMES\\nDescription:   Lot 216 Breckenridge Park\\nBSD-Building \\n(Residential New)Single Family \\nDetached2917 Farleigh Ct, Columbia, MO 65203 Fifth Issued 2020000110750001 BLDR-000326-2023\\n04/24/2023 10/24/2022 10/18/2022\\nPaula Edwards $7,095.79 $736,532.52  5,415 R-1 One-family DwellingANDERSON HOMES\\nDescription:   Lot 212, The Gates, P2 & 3\\nBSD-Building \\n(Residential New)Single Family \\nDetached4825 Stayton Ferry Loop, Columbia, MO \\n65201Sixth Issued 1750200062720001 BLDR-000351-2023\\n11/01/2022 05/01/2023 10/27/2022 10/20/2022\\nPaula Edwards $4,850.00 $356,128.80  2,810 R-1 One-family DwellingDYNAMIC BUILDERS\\nDescription:   Lot 724, The Brooks, P3\\nPERMITS ISSUED FOR SINGLE FAMILY DETACHED:   11 $5,802,471.94 \\nGRAND TOTAL OF PERMITS:  62 $27,595,387.06 \\n* Indicates active hold(s) on this permit\\nPage 12 of 12 November 04, 2022 701 E. Broadway, Columbia, Mo  65205-6015 - PAY ONLINE at www.CoMo.gov/selfservice'"
      ]
     },
     "execution_count": 168,
     "metadata": {},
     "output_type": "execute_result"
    }
   ],
   "source": [
    "#Putting it all together\n",
    "\n",
    "#First combine all of the pages to get one long string of text\n",
    "\n",
    "f = open('data/october_permits.pdf','rb')\n",
    "pdf_reader = PyPDF2.PdfFileReader(f) \n",
    "\n",
    "number_of_pages = pdf_reader.getNumPages()\n",
    "\n",
    "text=[]\n",
    "\n",
    "for x in range(number_of_pages):  \n",
    "    page = pdf_reader.getPage(x)\n",
    "    page_content = page.extractText()\n",
    "    text.append(page_content)\n",
    "    \n",
    "#Getting text as a string\n",
    "\n",
    "full_text = ' '.join(text)\n",
    "full_text\n"
   ]
  },
  {
   "cell_type": "code",
   "execution_count": 179,
   "id": "4a063a4c",
   "metadata": {},
   "outputs": [
    {
     "data": {
      "text/plain": [
       "62"
      ]
     },
     "execution_count": 179,
     "metadata": {},
     "output_type": "execute_result"
    }
   ],
   "source": [
    "#Processing\n",
    "\n",
    "permits = re.findall(r'((?:BLDC|BLDR|POOL|DECK|ROOF|DEMO)-\\d{6}-\\d{4})',full_text)\n",
    "len(permits)\n",
    "\n",
    "parcel = re.findall(r'(\\d{16})|...Pending..', full_text)\n",
    "len(parcel)\n",
    "#This is tricky because not all have a parcel number\n",
    "\n",
    "types = re.findall(r'(?:BSD-Building|BSD-Pool/Spa|BSD-Deck Only|BSD-Reroof|BSD-Demolition) (.*?)\\d',full_text.replace('\\n','|'))\n",
    "len(types)\n",
    "\n",
    "description = re.findall(r'Description:   (.*?)~ (?:BSD-Building|BSD-Pool/Spa|BSD-Deck Only|BSD-Reroof|BSD-Demolition|Permit|PERMITS|Page)|...Pending..', full_text.replace('\\n','~ '))\n",
    "len(description)\n",
    "\n",
    "address = re.findall(r'(?:[)]|Multi-Family|Demo\\s|Re-Roof\\s|Pool\\s|Detached|Duplex\\s|New\\s|Only\\s)(\\d.*?\\d{5})', full_text.replace('\\n',''))\n",
    "len(address)\n",
    "\n",
    "cost = re.findall(r'\\$\\d*[.]\\d*\\s\\$(\\d*[.]\\d*)', full_text.replace(',',''))\n",
    "len(cost)\n",
    "\n",
    "application_date = re.findall(r'(\\d{2}\\/\\d{2}\\/\\d{4})\\n\\D',full_text)\n",
    "len(application_date)\n",
    "\n",
    "issued_date = re.findall(r'(\\d{2}\\/\\d{2}\\/\\d{4})\\s\\d{2}\\/\\d{2}\\/\\d{4}\\n\\D',full_text)\n",
    "len(issued_date)\n",
    "\n",
    "square_feet = re.findall(r'\\$\\d*\\s\\$\\d*\\s{2}(\\d*)(?:\\s\\D|[A-Z])', full_text.replace(',','').replace('.',''))\n",
    "len(square_feet)\n",
    "\n",
    "status = re.findall(r'(?:First |Second |Third |Fourth |Fifth |Sixth |County|[.])(\\D*)\\s(?:\\d{16}|POOL)', full_text)\n",
    "len(status)\n"
   ]
  },
  {
   "cell_type": "code",
   "execution_count": 189,
   "id": "356d3880",
   "metadata": {},
   "outputs": [],
   "source": [
    "#Putting it together into a dataframe\n",
    "\n",
    "import pandas as pd \n",
    "\n",
    "final_permits = pd.DataFrame(\n",
    "    {'permitID': permits,\n",
    "     'parcel': parcel,\n",
    "     'type': types,\n",
    "     'description': description,\n",
    "     'address': address,\n",
    "     'cost': cost,\n",
    "     'application_date': application_date,\n",
    "     'issued_date': issued_date,\n",
    "     'sqft': square_feet,\n",
    "     'status': status    \n",
    "    })"
   ]
  },
  {
   "cell_type": "code",
   "execution_count": 194,
   "id": "a737f9e1",
   "metadata": {},
   "outputs": [
    {
     "data": {
      "text/html": [
       "<div>\n",
       "<style scoped>\n",
       "    .dataframe tbody tr th:only-of-type {\n",
       "        vertical-align: middle;\n",
       "    }\n",
       "\n",
       "    .dataframe tbody tr th {\n",
       "        vertical-align: top;\n",
       "    }\n",
       "\n",
       "    .dataframe thead th {\n",
       "        text-align: right;\n",
       "    }\n",
       "</style>\n",
       "<table border=\"1\" class=\"dataframe\">\n",
       "  <thead>\n",
       "    <tr style=\"text-align: right;\">\n",
       "      <th></th>\n",
       "      <th>permitID</th>\n",
       "      <th>parcel</th>\n",
       "      <th>type</th>\n",
       "      <th>description</th>\n",
       "      <th>address</th>\n",
       "      <th>cost</th>\n",
       "      <th>application_date</th>\n",
       "      <th>issued_date</th>\n",
       "      <th>sqft</th>\n",
       "      <th>status</th>\n",
       "    </tr>\n",
       "  </thead>\n",
       "  <tbody>\n",
       "    <tr>\n",
       "      <th>0</th>\n",
       "      <td>BLDR-000083-2023</td>\n",
       "      <td>1632000090120001</td>\n",
       "      <td>residential addition</td>\n",
       "      <td>12' x 40' detached wood framed storage buildin...</td>\n",
       "      <td>600 Rogers St, Columbia, MO 65201</td>\n",
       "      <td>31910.40</td>\n",
       "      <td>10/05/2022</td>\n",
       "      <td>10/05/2022</td>\n",
       "      <td>480</td>\n",
       "      <td>Issued</td>\n",
       "    </tr>\n",
       "    <tr>\n",
       "      <th>1</th>\n",
       "      <td>BLDR-000390-2023</td>\n",
       "      <td>1631300030170001</td>\n",
       "      <td>residential addition</td>\n",
       "      <td>garage and storage addition within existing se...</td>\n",
       "      <td>505 Pershing Rd, Col, MO 65203</td>\n",
       "      <td>79776.00</td>\n",
       "      <td>10/24/2022</td>\n",
       "      <td>10/26/2022</td>\n",
       "      <td>1200</td>\n",
       "      <td>Issued</td>\n",
       "    </tr>\n",
       "    <tr>\n",
       "      <th>2</th>\n",
       "      <td>BLDR-000399-2023</td>\n",
       "      <td>1680000060400001</td>\n",
       "      <td>residential addition</td>\n",
       "      <td>4 season room at rear of home.</td>\n",
       "      <td>1923 Devonshire Dr, Col, MO 65203</td>\n",
       "      <td>77725.44</td>\n",
       "      <td>10/24/2022</td>\n",
       "      <td>10/26/2022</td>\n",
       "      <td>468</td>\n",
       "      <td>Issued</td>\n",
       "    </tr>\n",
       "    <tr>\n",
       "      <th>3</th>\n",
       "      <td>BLDR-000309-2023</td>\n",
       "      <td>1720400000250001</td>\n",
       "      <td>residential addition</td>\n",
       "      <td>31' x 31' pole barn style addition to existing...</td>\n",
       "      <td>4810 St Charles Rd, Columbia, MO 65201</td>\n",
       "      <td>63887.28</td>\n",
       "      <td>10/17/2022</td>\n",
       "      <td>10/28/2022</td>\n",
       "      <td>961</td>\n",
       "      <td>Issued</td>\n",
       "    </tr>\n",
       "    <tr>\n",
       "      <th>4</th>\n",
       "      <td>BLDR-000454-2023</td>\n",
       "      <td>1760000011790001</td>\n",
       "      <td>residential addition</td>\n",
       "      <td>Add bonus room and additional garage</td>\n",
       "      <td>904 Old Hawthorne Drive East, Columbia, MO 65201</td>\n",
       "      <td>100418.40</td>\n",
       "      <td>10/27/2022</td>\n",
       "      <td>10/28/2022</td>\n",
       "      <td>1100</td>\n",
       "      <td>Issued</td>\n",
       "    </tr>\n",
       "  </tbody>\n",
       "</table>\n",
       "</div>"
      ],
      "text/plain": [
       "           permitID            parcel                  type  \\\n",
       "0  BLDR-000083-2023  1632000090120001  residential addition   \n",
       "1  BLDR-000390-2023  1631300030170001  residential addition   \n",
       "2  BLDR-000399-2023  1680000060400001  residential addition   \n",
       "3  BLDR-000309-2023  1720400000250001  residential addition   \n",
       "4  BLDR-000454-2023  1760000011790001  residential addition   \n",
       "\n",
       "                                         description  \\\n",
       "0  12' x 40' detached wood framed storage buildin...   \n",
       "1  garage and storage addition within existing se...   \n",
       "2                     4 season room at rear of home.   \n",
       "3  31' x 31' pole barn style addition to existing...   \n",
       "4               Add bonus room and additional garage   \n",
       "\n",
       "                                            address       cost  \\\n",
       "0                 600 Rogers St, Columbia, MO 65201   31910.40   \n",
       "1                    505 Pershing Rd, Col, MO 65203   79776.00   \n",
       "2                 1923 Devonshire Dr, Col, MO 65203   77725.44   \n",
       "3            4810 St Charles Rd, Columbia, MO 65201   63887.28   \n",
       "4  904 Old Hawthorne Drive East, Columbia, MO 65201  100418.40   \n",
       "\n",
       "  application_date issued_date  sqft  status  \n",
       "0       10/05/2022  10/05/2022   480  Issued  \n",
       "1       10/24/2022  10/26/2022  1200  Issued  \n",
       "2       10/24/2022  10/26/2022   468  Issued  \n",
       "3       10/17/2022  10/28/2022   961  Issued  \n",
       "4       10/27/2022  10/28/2022  1100  Issued  "
      ]
     },
     "execution_count": 194,
     "metadata": {},
     "output_type": "execute_result"
    }
   ],
   "source": [
    "final_permits.head()"
   ]
  },
  {
   "cell_type": "code",
   "execution_count": 195,
   "id": "28c9387b",
   "metadata": {},
   "outputs": [],
   "source": [
    "#Some cleaning of the types column\n",
    "\n",
    "final_permits['type'] = final_permits['type'].replace(['|(Residential |Alter/Add)Addition |(Residential)'], 'residential addition')\n",
    "final_permits['type'] = final_permits['type'].replace(['|(Commercial)Alteration |(Commercial)'], 'commercial alteration')\n",
    "final_permits['type'] = final_permits['type'].replace(['|(Residential |Alter/Add)Alteration |(Residential)'], 'residential alteration')\n",
    "final_permits['type'] = final_permits['type'].replace(['BSD - Pool ('], 'pool (1&2 family)')\n",
    "final_permits['type'] = final_permits['type'].replace(['|(Commercial)Commercial |Multi-Family'], 'commericial multifamily')\n",
    "final_permits['type'] = final_permits['type'].replace(['|(Commercial)Commercial New '], 'commercial new')\n",
    "final_permits['type'] = final_permits['type'].replace(['Deck Only '], 'deck')\n",
    "final_permits['type'] = final_permits['type'].replace(['|(Residential New)Duplex '], 'new duplex')\n",
    "final_permits['type'] = final_permits['type'].replace(['Re-Roof '], 're-roof')\n",
    "final_permits['type'] = final_permits['type'].replace(['|Structure(s)Residential Demo '], 'residential demolition')\n",
    "final_permits['type'] = final_permits['type'].replace(['|(Residential New)Single Family |Detached'], 'single family detached')\n"
   ]
  },
  {
   "cell_type": "code",
   "execution_count": 196,
   "id": "7db5ec9b",
   "metadata": {},
   "outputs": [
    {
     "data": {
      "text/plain": [
       "array(['residential addition', 'commercial alteration',\n",
       "       'residential alteration', 'pool (1&2 family)',\n",
       "       'commericial multifamily', 'commercial new', 'deck', 'new duplex',\n",
       "       're-roof', 'residential demolition', 'single family detached'],\n",
       "      dtype=object)"
      ]
     },
     "execution_count": 196,
     "metadata": {},
     "output_type": "execute_result"
    }
   ],
   "source": [
    "final_permits.type.unique()"
   ]
  },
  {
   "cell_type": "code",
   "execution_count": 202,
   "id": "b02e9c14",
   "metadata": {},
   "outputs": [
    {
     "data": {
      "text/html": [
       "<div>\n",
       "<style scoped>\n",
       "    .dataframe tbody tr th:only-of-type {\n",
       "        vertical-align: middle;\n",
       "    }\n",
       "\n",
       "    .dataframe tbody tr th {\n",
       "        vertical-align: top;\n",
       "    }\n",
       "\n",
       "    .dataframe thead th {\n",
       "        text-align: right;\n",
       "    }\n",
       "</style>\n",
       "<table border=\"1\" class=\"dataframe\">\n",
       "  <thead>\n",
       "    <tr style=\"text-align: right;\">\n",
       "      <th></th>\n",
       "      <th>permitID</th>\n",
       "      <th>parcel</th>\n",
       "      <th>type</th>\n",
       "      <th>description</th>\n",
       "      <th>address</th>\n",
       "      <th>cost</th>\n",
       "      <th>application_date</th>\n",
       "      <th>issued_date</th>\n",
       "      <th>sqft</th>\n",
       "      <th>status</th>\n",
       "    </tr>\n",
       "  </thead>\n",
       "  <tbody>\n",
       "    <tr>\n",
       "      <th>0</th>\n",
       "      <td>BLDR-000083-2023</td>\n",
       "      <td>1632000090120001</td>\n",
       "      <td>residential addition</td>\n",
       "      <td>12' x 40' detached wood framed storage buildin...</td>\n",
       "      <td>600 Rogers St, Columbia, MO 65201</td>\n",
       "      <td>31910.40</td>\n",
       "      <td>10/05/2022</td>\n",
       "      <td>10/05/2022</td>\n",
       "      <td>480</td>\n",
       "      <td>Issued</td>\n",
       "    </tr>\n",
       "    <tr>\n",
       "      <th>1</th>\n",
       "      <td>BLDR-000390-2023</td>\n",
       "      <td>1631300030170001</td>\n",
       "      <td>residential addition</td>\n",
       "      <td>garage and storage addition within existing se...</td>\n",
       "      <td>505 Pershing Rd, Columbia, MO 65203</td>\n",
       "      <td>79776.00</td>\n",
       "      <td>10/24/2022</td>\n",
       "      <td>10/26/2022</td>\n",
       "      <td>1200</td>\n",
       "      <td>Issued</td>\n",
       "    </tr>\n",
       "    <tr>\n",
       "      <th>2</th>\n",
       "      <td>BLDR-000399-2023</td>\n",
       "      <td>1680000060400001</td>\n",
       "      <td>residential addition</td>\n",
       "      <td>4 season room at rear of home.</td>\n",
       "      <td>1923 Devonshire Dr, Columbia, MO 65203</td>\n",
       "      <td>77725.44</td>\n",
       "      <td>10/24/2022</td>\n",
       "      <td>10/26/2022</td>\n",
       "      <td>468</td>\n",
       "      <td>Issued</td>\n",
       "    </tr>\n",
       "    <tr>\n",
       "      <th>3</th>\n",
       "      <td>BLDR-000309-2023</td>\n",
       "      <td>1720400000250001</td>\n",
       "      <td>residential addition</td>\n",
       "      <td>31' x 31' pole barn style addition to existing...</td>\n",
       "      <td>4810 St Charles Rd, Columbia, MO 65201</td>\n",
       "      <td>63887.28</td>\n",
       "      <td>10/17/2022</td>\n",
       "      <td>10/28/2022</td>\n",
       "      <td>961</td>\n",
       "      <td>Issued</td>\n",
       "    </tr>\n",
       "    <tr>\n",
       "      <th>4</th>\n",
       "      <td>BLDR-000454-2023</td>\n",
       "      <td>1760000011790001</td>\n",
       "      <td>residential addition</td>\n",
       "      <td>Add bonus room and additional garage</td>\n",
       "      <td>904 Old Hawthorne Drive East, Columbia, MO 65201</td>\n",
       "      <td>100418.40</td>\n",
       "      <td>10/27/2022</td>\n",
       "      <td>10/28/2022</td>\n",
       "      <td>1100</td>\n",
       "      <td>Issued</td>\n",
       "    </tr>\n",
       "  </tbody>\n",
       "</table>\n",
       "</div>"
      ],
      "text/plain": [
       "           permitID            parcel                  type  \\\n",
       "0  BLDR-000083-2023  1632000090120001  residential addition   \n",
       "1  BLDR-000390-2023  1631300030170001  residential addition   \n",
       "2  BLDR-000399-2023  1680000060400001  residential addition   \n",
       "3  BLDR-000309-2023  1720400000250001  residential addition   \n",
       "4  BLDR-000454-2023  1760000011790001  residential addition   \n",
       "\n",
       "                                         description  \\\n",
       "0  12' x 40' detached wood framed storage buildin...   \n",
       "1  garage and storage addition within existing se...   \n",
       "2                     4 season room at rear of home.   \n",
       "3  31' x 31' pole barn style addition to existing...   \n",
       "4               Add bonus room and additional garage   \n",
       "\n",
       "                                            address       cost  \\\n",
       "0                 600 Rogers St, Columbia, MO 65201   31910.40   \n",
       "1               505 Pershing Rd, Columbia, MO 65203   79776.00   \n",
       "2            1923 Devonshire Dr, Columbia, MO 65203   77725.44   \n",
       "3            4810 St Charles Rd, Columbia, MO 65201   63887.28   \n",
       "4  904 Old Hawthorne Drive East, Columbia, MO 65201  100418.40   \n",
       "\n",
       "  application_date issued_date  sqft  status  \n",
       "0       10/05/2022  10/05/2022   480  Issued  \n",
       "1       10/24/2022  10/26/2022  1200  Issued  \n",
       "2       10/24/2022  10/26/2022   468  Issued  \n",
       "3       10/17/2022  10/28/2022   961  Issued  \n",
       "4       10/27/2022  10/28/2022  1100  Issued  "
      ]
     },
     "execution_count": 202,
     "metadata": {},
     "output_type": "execute_result"
    }
   ],
   "source": [
    "#Cleaning the address -- converting Col to Columbia\n",
    "\n",
    "final_permits.replace('Col,','Columbia,',regex=True,inplace=True)\n",
    "final_permits.head()"
   ]
  },
  {
   "cell_type": "code",
   "execution_count": 204,
   "id": "e729d55b",
   "metadata": {},
   "outputs": [],
   "source": [
    "#Removing the ~'s that I inserted at various points in the process to help with the regex\n",
    "\n",
    "final_permits['description'].replace('~', '', regex=True, inplace=True)"
   ]
  },
  {
   "cell_type": "code",
   "execution_count": 206,
   "id": "c5b61ba3",
   "metadata": {},
   "outputs": [],
   "source": [
    "#Writing the final result to a CSV\n",
    "final_permits.to_csv('october_permits.csv', index=False)"
   ]
  },
  {
   "cell_type": "code",
   "execution_count": null,
   "id": "aa460d64",
   "metadata": {},
   "outputs": [],
   "source": []
  }
 ],
 "metadata": {
  "kernelspec": {
   "display_name": "Python 3 (ipykernel)",
   "language": "python",
   "name": "python3"
  },
  "language_info": {
   "codemirror_mode": {
    "name": "ipython",
    "version": 3
   },
   "file_extension": ".py",
   "mimetype": "text/x-python",
   "name": "python",
   "nbconvert_exporter": "python",
   "pygments_lexer": "ipython3",
   "version": "3.9.7"
  }
 },
 "nbformat": 4,
 "nbformat_minor": 5
}
